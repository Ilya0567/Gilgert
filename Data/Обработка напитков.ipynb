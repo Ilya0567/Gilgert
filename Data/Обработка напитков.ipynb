{
 "cells": [
  {
   "cell_type": "code",
   "execution_count": null,
   "metadata": {},
   "outputs": [],
   "source": [
    "# %pip install openpyxl\n",
    "import pandas as pd\n",
    "import numpy as np\n",
    "\n",
    "# Provide the correct path to the file\n",
    "# drinks = pd.read_excel(\"Напитки (2).xlsx\", header=1)\n",
    "drinks = pd.read_csv(\"drinks.csv\").head(2)\n",
    "\n",
    "lunch = pd.read_csv(\"Обеды_с_эмодзи_в_начале.csv\")"
   ]
  },
  {
   "cell_type": "code",
   "execution_count": null,
   "metadata": {},
   "outputs": [
    {
     "data": {
      "text/html": [
       "<div>\n",
       "<style scoped>\n",
       "    .dataframe tbody tr th:only-of-type {\n",
       "        vertical-align: middle;\n",
       "    }\n",
       "\n",
       "    .dataframe tbody tr th {\n",
       "        vertical-align: top;\n",
       "    }\n",
       "\n",
       "    .dataframe thead th {\n",
       "        text-align: right;\n",
       "    }\n",
       "</style>\n",
       "<table border=\"1\" class=\"dataframe\">\n",
       "  <thead>\n",
       "    <tr style=\"text-align: right;\">\n",
       "      <th></th>\n",
       "      <th>№</th>\n",
       "      <th>Название:</th>\n",
       "      <th>Ингредиенты на 1 порцию:</th>\n",
       "      <th>Приготовление:</th>\n",
       "      <th>Какое блюдо</th>\n",
       "      <th>Блюдо из</th>\n",
       "    </tr>\n",
       "  </thead>\n",
       "  <tbody>\n",
       "    <tr>\n",
       "      <th>0</th>\n",
       "      <td>1</td>\n",
       "      <td>Чай зелёный</td>\n",
       "      <td>Зелёный чай (сухие чайные листья): 1 чайная ло...</td>\n",
       "      <td>Доведите воду до кипения, затем дайте ей немно...</td>\n",
       "      <td>напитки</td>\n",
       "      <td>чай</td>\n",
       "    </tr>\n",
       "    <tr>\n",
       "      <th>1</th>\n",
       "      <td>2</td>\n",
       "      <td>Чай из мяты</td>\n",
       "      <td>Свежие листья мяты: 5-6 листьев (или 1 чайная ...</td>\n",
       "      <td>Если используете свежие листья мяты, тщательно...</td>\n",
       "      <td>напитки</td>\n",
       "      <td>чай</td>\n",
       "    </tr>\n",
       "  </tbody>\n",
       "</table>\n",
       "</div>"
      ],
      "text/plain": [
       "   №    Название:                           Ингредиенты на 1 порцию:  \\\n",
       "0  1  Чай зелёный  Зелёный чай (сухие чайные листья): 1 чайная ло...   \n",
       "1  2  Чай из мяты  Свежие листья мяты: 5-6 листьев (или 1 чайная ...   \n",
       "\n",
       "                                      Приготовление: Какое блюдо Блюдо из  \n",
       "0  Доведите воду до кипения, затем дайте ей немно...     напитки      чай  \n",
       "1  Если используете свежие листья мяты, тщательно...     напитки      чай  "
      ]
     },
     "metadata": {},
     "output_type": "display_data"
    },
    {
     "data": {
      "text/html": [
       "<div>\n",
       "<style scoped>\n",
       "    .dataframe tbody tr th:only-of-type {\n",
       "        vertical-align: middle;\n",
       "    }\n",
       "\n",
       "    .dataframe tbody tr th {\n",
       "        vertical-align: top;\n",
       "    }\n",
       "\n",
       "    .dataframe thead th {\n",
       "        text-align: right;\n",
       "    }\n",
       "</style>\n",
       "<table border=\"1\" class=\"dataframe\">\n",
       "  <thead>\n",
       "    <tr style=\"text-align: right;\">\n",
       "      <th></th>\n",
       "      <th>№</th>\n",
       "      <th>Название:</th>\n",
       "      <th>Ингредиенты на 1 порцию:</th>\n",
       "      <th>Приготовление:</th>\n",
       "      <th>Какое блюдо</th>\n",
       "      <th>Блюдо из</th>\n",
       "    </tr>\n",
       "  </thead>\n",
       "  <tbody>\n",
       "    <tr>\n",
       "      <th>0</th>\n",
       "      <td>1</td>\n",
       "      <td>Чай зелёный</td>\n",
       "      <td>Зелёный чай (сухие чайные листья): 1 чайная ло...</td>\n",
       "      <td>Доведите воду до кипения, затем дайте ей немно...</td>\n",
       "      <td>напитки</td>\n",
       "      <td>чай</td>\n",
       "    </tr>\n",
       "    <tr>\n",
       "      <th>1</th>\n",
       "      <td>2</td>\n",
       "      <td>Чай из мяты</td>\n",
       "      <td>Свежие листья мяты: 5-6 листьев (или 1 чайная ...</td>\n",
       "      <td>Если используете свежие листья мяты, тщательно...</td>\n",
       "      <td>напитки</td>\n",
       "      <td>чай</td>\n",
       "    </tr>\n",
       "  </tbody>\n",
       "</table>\n",
       "</div>"
      ],
      "text/plain": [
       "   №    Название:                           Ингредиенты на 1 порцию:  \\\n",
       "0  1  Чай зелёный  Зелёный чай (сухие чайные листья): 1 чайная ло...   \n",
       "1  2  Чай из мяты  Свежие листья мяты: 5-6 листьев (или 1 чайная ...   \n",
       "\n",
       "                                      Приготовление: Какое блюдо Блюдо из  \n",
       "0  Доведите воду до кипения, затем дайте ей немно...     напитки      чай  \n",
       "1  Если используете свежие листья мяты, тщательно...     напитки      чай  "
      ]
     },
     "execution_count": 19,
     "metadata": {},
     "output_type": "execute_result"
    }
   ],
   "source": [
    "display(drinks.head(2))\n",
    "lunch.head(2)\n",
    "# drinks.to_csv(\"drinks.csv\", index=False)\n"
   ]
  },
  {
   "cell_type": "code",
   "execution_count": null,
   "metadata": {},
   "outputs": [],
   "source": []
  }
 ],
 "metadata": {
  "kernelspec": {
   "display_name": "base",
   "language": "python",
   "name": "python3"
  },
  "language_info": {
   "codemirror_mode": {
    "name": "ipython",
    "version": 3
   },
   "file_extension": ".py",
   "mimetype": "text/x-python",
   "name": "python",
   "nbconvert_exporter": "python",
   "pygments_lexer": "ipython3",
   "version": "3.12.3"
  }
 },
 "nbformat": 4,
 "nbformat_minor": 2
}
