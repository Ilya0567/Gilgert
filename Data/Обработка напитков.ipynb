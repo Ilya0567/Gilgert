{
 "cells": [
  {
   "cell_type": "code",
   "execution_count": 41,
   "metadata": {},
   "outputs": [],
   "source": [
    "# %pip install openpyxl\n",
    "import pandas as pd\n",
    "import numpy as np\n",
    "\n",
    "# Provide the correct path to the file\n",
    "# drinks = pd.read_excel(\"Напитки (2).xlsx\", header=1)\n",
    "drinks = pd.read_csv(\"drinks.csv\")\n",
    "\n",
    "lunch = pd.read_csv(\"Обеды_с_эмодзи_в_начале.csv\")\n",
    "\n",
    "breakfast = pd.read_excel(\"Завтраки основ. бл..xlsx\", header=1)"
   ]
  },
  {
   "cell_type": "code",
   "execution_count": 37,
   "metadata": {},
   "outputs": [
    {
     "data": {
      "text/html": [
       "<div>\n",
       "<style scoped>\n",
       "    .dataframe tbody tr th:only-of-type {\n",
       "        vertical-align: middle;\n",
       "    }\n",
       "\n",
       "    .dataframe tbody tr th {\n",
       "        vertical-align: top;\n",
       "    }\n",
       "\n",
       "    .dataframe thead th {\n",
       "        text-align: right;\n",
       "    }\n",
       "</style>\n",
       "<table border=\"1\" class=\"dataframe\">\n",
       "  <thead>\n",
       "    <tr style=\"text-align: right;\">\n",
       "      <th></th>\n",
       "      <th>№</th>\n",
       "      <th>Название:</th>\n",
       "      <th>Ингредиенты на 1 порцию:</th>\n",
       "      <th>Приготовление:</th>\n",
       "      <th>Какое блюдо</th>\n",
       "      <th>Блюдо из</th>\n",
       "    </tr>\n",
       "  </thead>\n",
       "  <tbody>\n",
       "    <tr>\n",
       "      <th>0</th>\n",
       "      <td>1</td>\n",
       "      <td>Чай зелёный</td>\n",
       "      <td>Зелёный чай (сухие чайные листья): 1 чайная ло...</td>\n",
       "      <td>Доведите воду до кипения, затем дайте ей немно...</td>\n",
       "      <td>напитки</td>\n",
       "      <td>чай</td>\n",
       "    </tr>\n",
       "    <tr>\n",
       "      <th>1</th>\n",
       "      <td>2</td>\n",
       "      <td>Чай из мяты</td>\n",
       "      <td>Свежие листья мяты: 5-6 листьев (или 1 чайная ...</td>\n",
       "      <td>Если используете свежие листья мяты, тщательно...</td>\n",
       "      <td>напитки</td>\n",
       "      <td>чай</td>\n",
       "    </tr>\n",
       "  </tbody>\n",
       "</table>\n",
       "</div>"
      ],
      "text/plain": [
       "   №    Название:                           Ингредиенты на 1 порцию:  \\\n",
       "0  1  Чай зелёный  Зелёный чай (сухие чайные листья): 1 чайная ло...   \n",
       "1  2  Чай из мяты  Свежие листья мяты: 5-6 листьев (или 1 чайная ...   \n",
       "\n",
       "                                      Приготовление: Какое блюдо Блюдо из  \n",
       "0  Доведите воду до кипения, затем дайте ей немно...     напитки      чай  \n",
       "1  Если используете свежие листья мяты, тщательно...     напитки      чай  "
      ]
     },
     "metadata": {},
     "output_type": "display_data"
    },
    {
     "data": {
      "text/html": [
       "<div>\n",
       "<style scoped>\n",
       "    .dataframe tbody tr th:only-of-type {\n",
       "        vertical-align: middle;\n",
       "    }\n",
       "\n",
       "    .dataframe tbody tr th {\n",
       "        vertical-align: top;\n",
       "    }\n",
       "\n",
       "    .dataframe thead th {\n",
       "        text-align: right;\n",
       "    }\n",
       "</style>\n",
       "<table border=\"1\" class=\"dataframe\">\n",
       "  <thead>\n",
       "    <tr style=\"text-align: right;\">\n",
       "      <th></th>\n",
       "      <th>Unnamed: 0.1</th>\n",
       "      <th>Unnamed: 0</th>\n",
       "      <th>№</th>\n",
       "      <th>Название блюда:</th>\n",
       "      <th>Ингредиенты на 1 порцию:</th>\n",
       "      <th>Приготовление:</th>\n",
       "      <th>Какое блюдо</th>\n",
       "      <th>Блюдо из</th>\n",
       "      <th>Тип блюда</th>\n",
       "    </tr>\n",
       "  </thead>\n",
       "  <tbody>\n",
       "    <tr>\n",
       "      <th>0</th>\n",
       "      <td>0</td>\n",
       "      <td>0</td>\n",
       "      <td>1</td>\n",
       "      <td>Суп овощной с брокколи, цветной капустой, каба...</td>\n",
       "      <td>🥕 Морковь – 1/2 средней (около 50 г)\\n🥔 Картоф...</td>\n",
       "      <td>Очистите картофель, морковь и кабачок. Нарежьт...</td>\n",
       "      <td>суп</td>\n",
       "      <td>овощной</td>\n",
       "      <td>Первое блюдо</td>\n",
       "    </tr>\n",
       "    <tr>\n",
       "      <th>1</th>\n",
       "      <td>1</td>\n",
       "      <td>1</td>\n",
       "      <td>2</td>\n",
       "      <td>Суп овощной с брокколи, цветной капустой и мор...</td>\n",
       "      <td>🥦 Брокколи – 50 г (примерно 3-4 соцветия)\\n🥬 Ц...</td>\n",
       "      <td>Брокколи и цветную капусту разделите на неболь...</td>\n",
       "      <td>суп</td>\n",
       "      <td>овощной</td>\n",
       "      <td>Первое блюдо</td>\n",
       "    </tr>\n",
       "  </tbody>\n",
       "</table>\n",
       "</div>"
      ],
      "text/plain": [
       "   Unnamed: 0.1  Unnamed: 0  №  \\\n",
       "0             0           0  1   \n",
       "1             1           1  2   \n",
       "\n",
       "                                     Название блюда:  \\\n",
       "0  Суп овощной с брокколи, цветной капустой, каба...   \n",
       "1  Суп овощной с брокколи, цветной капустой и мор...   \n",
       "\n",
       "                            Ингредиенты на 1 порцию:  \\\n",
       "0  🥕 Морковь – 1/2 средней (около 50 г)\\n🥔 Картоф...   \n",
       "1  🥦 Брокколи – 50 г (примерно 3-4 соцветия)\\n🥬 Ц...   \n",
       "\n",
       "                                      Приготовление: Какое блюдо Блюдо из  \\\n",
       "0  Очистите картофель, морковь и кабачок. Нарежьт...         суп  овощной   \n",
       "1  Брокколи и цветную капусту разделите на неболь...         суп  овощной   \n",
       "\n",
       "      Тип блюда  \n",
       "0  Первое блюдо  \n",
       "1  Первое блюдо  "
      ]
     },
     "execution_count": 37,
     "metadata": {},
     "output_type": "execute_result"
    }
   ],
   "source": [
    "display(drinks.head(2))\n",
    "lunch.head(2)\n",
    "# drinks.to_csv(\"drinks.csv\", index=False)\n"
   ]
  },
  {
   "cell_type": "code",
   "execution_count": 42,
   "metadata": {},
   "outputs": [],
   "source": [
    "drinks[\"Блюдо из\"].value_counts()\n",
    "# нужно сделать маппер ля уникальных значение в Блюдо из, чтобы они были с большой буквы в завтраках\n",
    "\n",
    "\n",
    "# Создаем маппер для уникальных значений в столбце \"Блюдо из\"\n",
    "mapper = {value: value.capitalize() for value in drinks[\"Блюдо из\"].unique()}\n",
    "\n",
    "# # # Применяем маппер к столбцу \"Блюдо из\"\n",
    "drinks[\"Блюдо из\"] = drinks[\"Блюдо из\"].map(mapper)\n",
    "drinks[\"Блюдо из\"].value_counts()\n",
    "drinks.to_csv(\"drinks.csv\", index=False)\n",
    "\n"
   ]
  },
  {
   "cell_type": "code",
   "execution_count": null,
   "metadata": {},
   "outputs": [],
   "source": [
    "ssh username@remote_server_ip"
   ]
  }
 ],
 "metadata": {
  "kernelspec": {
   "display_name": "base",
   "language": "python",
   "name": "python3"
  },
  "language_info": {
   "codemirror_mode": {
    "name": "ipython",
    "version": 3
   },
   "file_extension": ".py",
   "mimetype": "text/x-python",
   "name": "python",
   "nbconvert_exporter": "python",
   "pygments_lexer": "ipython3",
   "version": "3.12.3"
  }
 },
 "nbformat": 4,
 "nbformat_minor": 2
}
